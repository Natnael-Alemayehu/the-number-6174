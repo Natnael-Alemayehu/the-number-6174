{
 "cells": [
  {
   "cell_type": "code",
   "execution_count": 1,
   "id": "000ea0cf",
   "metadata": {},
   "outputs": [],
   "source": [
    "import random"
   ]
  },
  {
   "cell_type": "code",
   "execution_count": 41,
   "id": "c1ef175c",
   "metadata": {},
   "outputs": [
    {
     "name": "stdout",
     "output_type": "stream",
     "text": [
      "7653\n"
     ]
    }
   ],
   "source": [
    "def arrange_dec(num):\n",
    "    lst = [int(x) for x in str(num)]\n",
    "    lst.sort(reverse=True)\n",
    "    new_num = 0\n",
    "    count = 0\n",
    "    for x in lst:\n",
    "        if count == 0:\n",
    "            new_num = new_num + int(x)*1000\n",
    "            count+=1\n",
    "        elif count == 1:\n",
    "            new_num = new_num + int(x)*100\n",
    "            count+=1\n",
    "        elif count ==2:\n",
    "            new_num = new_num + int(x) * 10\n",
    "            count+=1\n",
    "        elif count == 3:\n",
    "            new_num = new_num + int(x)\n",
    "    return new_num"
   ]
  },
  {
   "cell_type": "code",
   "execution_count": 42,
   "id": "d52f0c25",
   "metadata": {},
   "outputs": [
    {
     "name": "stdout",
     "output_type": "stream",
     "text": [
      "3567\n"
     ]
    }
   ],
   "source": [
    "def arrange_acc(num):\n",
    "    lst = [int(x) for x in str(num)]\n",
    "    lst.sort()\n",
    "    new_num = 0\n",
    "    count = 0\n",
    "    for x in lst:\n",
    "        if count == 0:\n",
    "            new_num = new_num + int(x)*1000\n",
    "            count+=1\n",
    "        elif count == 1:\n",
    "            new_num = new_num + int(x)*100\n",
    "            count+=1\n",
    "        elif count ==2:\n",
    "            new_num = new_num + int(x) * 10\n",
    "            count+=1\n",
    "        elif count == 3:\n",
    "            new_num = new_num + int(x)\n",
    "    return new_num"
   ]
  },
  {
   "cell_type": "code",
   "execution_count": 99,
   "id": "47a5c4bb",
   "metadata": {},
   "outputs": [],
   "source": [
    "count = 0\n",
    "def calc(num,count):\n",
    "    while not(num == 6174):\n",
    "        rand_dec = arrange_dec(num)\n",
    "        rand_acc = arrange_acc(num)\n",
    "\n",
    "        num = rand_dec - rand_acc\n",
    "        print(num)\n",
    "        count +=1\n",
    "    return count"
   ]
  },
  {
   "cell_type": "code",
   "execution_count": 111,
   "id": "77087418",
   "metadata": {},
   "outputs": [
    {
     "name": "stdout",
     "output_type": "stream",
     "text": [
      "The initial number is: 9792\n",
      "7173\n",
      "6354\n",
      "3087\n",
      "8352\n",
      "6174\n",
      "This takes 5 iteration to finish\n"
     ]
    }
   ],
   "source": [
    "random_number = random.randint(999,10000)\n",
    "print(\"The initial number is: \"+ str(random_number))\n",
    "print(\"This takes \"+ str(calc(random_number,0))+ \" iteration to finish\")"
   ]
  },
  {
   "cell_type": "code",
   "execution_count": null,
   "id": "560ec3c1",
   "metadata": {},
   "outputs": [],
   "source": []
  }
 ],
 "metadata": {
  "kernelspec": {
   "display_name": "Python 3 (ipykernel)",
   "language": "python",
   "name": "python3"
  },
  "language_info": {
   "codemirror_mode": {
    "name": "ipython",
    "version": 3
   },
   "file_extension": ".py",
   "mimetype": "text/x-python",
   "name": "python",
   "nbconvert_exporter": "python",
   "pygments_lexer": "ipython3",
   "version": "3.8.8"
  }
 },
 "nbformat": 4,
 "nbformat_minor": 5
}
